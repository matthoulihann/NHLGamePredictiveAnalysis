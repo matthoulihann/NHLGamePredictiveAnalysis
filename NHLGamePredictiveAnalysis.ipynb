{
  "nbformat": 4,
  "nbformat_minor": 0,
  "metadata": {
    "colab": {
      "provenance": []
    },
    "kernelspec": {
      "name": "python3",
      "display_name": "Python 3"
    },
    "language_info": {
      "name": "python"
    }
  },
  "cells": [
    {
      "cell_type": "code",
      "source": [
        "import pandas as pd\n",
        "from sklearn.ensemble import RandomForestClassifier\n",
        "from sklearn.model_selection import train_test_split\n",
        "from sklearn.preprocessing import StandardScaler\n",
        "\n",
        "# Step 0: Load the dataset\n",
        "games_data = pd.read_csv(\"/games.csv\")  # Replace with your actual file path\n",
        "\n",
        "# Step 1: Prepare features and target\n",
        "features = ['HDCF%', 'xGF%', 'FF%', 'CF%', 'SCF%', 'PDO']\n",
        "X = games_data[features].fillna(0)  # Ensure no missing values\n",
        "y = (games_data['W'] > games_data['L']).astype(int)  # Target: 1 for win, 0 for loss\n",
        "\n",
        "# Normalize features\n",
        "scaler = StandardScaler()\n",
        "X_scaled = scaler.fit_transform(X)\n",
        "\n",
        "# Step 2: Train the model\n",
        "X_train, X_test, y_train, y_test = train_test_split(X_scaled, y, test_size=0.2, random_state=42, stratify=y)\n",
        "model = RandomForestClassifier(n_estimators=100, random_state=42)\n",
        "model.fit(X_train, y_train)\n",
        "\n",
        "# Step 3: Define the prediction function\n",
        "def predict_matchup():\n",
        "    \"\"\"\n",
        "    Ask the user to input two teams and predict the winner using the trained model.\n",
        "    \"\"\"\n",
        "    # Input team names\n",
        "    team1 = input(\"Enter the name of the first team: \").strip()\n",
        "    team2 = input(\"Enter the name of the second team: \").strip()\n",
        "\n",
        "    # Get stats for both teams\n",
        "    team1_stats = games_data[games_data['Team'] == team1][features]\n",
        "    team2_stats = games_data[games_data['Team'] == team2][features]\n",
        "\n",
        "    # Check if the teams are in the dataset\n",
        "    if team1_stats.empty or team2_stats.empty:\n",
        "        print(f\"One or both team names ('{team1}', '{team2}') not found in the dataset.\")\n",
        "        return\n",
        "\n",
        "    # Normalize input stats\n",
        "    matchup_stats = pd.concat([team1_stats.mean(), team2_stats.mean()], axis=1).T.fillna(0)\n",
        "    matchup_stats_scaled = scaler.transform(matchup_stats)\n",
        "\n",
        "    # Predict probabilities\n",
        "    probabilities = model.predict_proba(matchup_stats_scaled)\n",
        "    team1_prob = max(min(probabilities[0][1], 0.99), 0.01)\n",
        "    team2_prob = 1 - team1_prob\n",
        "\n",
        "    # Determine winner\n",
        "    winner = team1 if team1_prob > team2_prob else team2\n",
        "    print(f\"The model predicts '{winner}' to win.\")\n",
        "    print(f\"Win Probabilities:\\n  {team1}: {team1_prob:.2%}\\n  {team2}: {team2_prob:.2%}\")\n",
        "\n",
        "# Step 4: Interactive Loop\n",
        "def main():\n",
        "    print(\"Welcome to the NHL Matchup Predictor!\")\n",
        "    while True:\n",
        "        predict_matchup()\n",
        "        cont = input(\"Do you want to predict another matchup? (yes/no): \").strip().lower()\n",
        "        if cont != \"yes\":\n",
        "            print(\"Thank you for using the NHL Matchup Predictor!\")\n",
        "            break\n",
        "\n",
        "# Run the program\n",
        "if __name__ == \"__main__\":\n",
        "    main()\n"
      ],
      "metadata": {
        "colab": {
          "base_uri": "https://localhost:8080/"
        },
        "id": "KJvQEHbvD66m",
        "outputId": "5baa1212-6120-4da4-e80f-74be72b4bf15"
      },
      "execution_count": 1,
      "outputs": [
        {
          "output_type": "stream",
          "name": "stdout",
          "text": [
            "Welcome to the NHL Matchup Predictor!\n",
            "Enter the name of the first team: Carolina Hurricanes\n",
            "Enter the name of the second team: New Jersey Devils\n",
            "The model predicts 'Carolina Hurricanes' to win.\n",
            "Win Probabilities:\n",
            "  Carolina Hurricanes: 93.00%\n",
            "  New Jersey Devils: 7.00%\n",
            "Do you want to predict another matchup? (yes/no): no\n",
            "Thank you for using the NHL Matchup Predictor!\n"
          ]
        }
      ]
    }
  ]
}